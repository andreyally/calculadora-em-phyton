{
  "nbformat": 4,
  "nbformat_minor": 0,
  "metadata": {
    "colab": {
      "provenance": [],
      "authorship_tag": "ABX9TyN63i+dg6m2cLtelTM9S9vs",
      "include_colab_link": true
    },
    "kernelspec": {
      "name": "python3",
      "display_name": "Python 3"
    },
    "language_info": {
      "name": "python"
    }
  },
  "cells": [
    {
      "cell_type": "markdown",
      "metadata": {
        "id": "view-in-github",
        "colab_type": "text"
      },
      "source": [
        "<a href=\"https://colab.research.google.com/github/andreyally/calculadora-em-phyton/blob/main/Untitled8.ipynb\" target=\"_parent\"><img src=\"https://colab.research.google.com/assets/colab-badge.svg\" alt=\"Open In Colab\"/></a>"
      ]
    },
    {
      "cell_type": "code",
      "execution_count": null,
      "metadata": {
        "colab": {
          "base_uri": "https://localhost:8080/"
        },
        "id": "TpO_MxKtIkZB",
        "outputId": "505bcfc5-2de5-48ee-cd50-eeb8e3c66af0"
      },
      "outputs": [
        {
          "output_type": "stream",
          "name": "stdout",
          "text": [
            "selecione a operação desejada\n",
            "1 adição\n",
            "2 subtração\n",
            "3 divisão\n",
            "4 divisão\n",
            "digite o número da operação desejada (1/2/3/4):1\n",
            "digite um numero:2\n",
            "digite um numero:3\n",
            "Resultado 5.0\n"
          ]
        }
      ],
      "source": [
        "print(\"selecione a operação desejada\")\n",
        "print(\"1 adição\")\n",
        "print(\"2 subtração\")\n",
        "print(\"3 divisão\")\n",
        "print(\"4 divisão\")\n",
        "\n",
        "opcao = input(\"digite o número da operação desejada (1/2/3/4):\")\n",
        "\n",
        "numero1 = float(input(\"digite um numero:\"))\n",
        "numero2 = float(input(\"digite um numero:\"))\n",
        "\n",
        "if opcao == '1':\n",
        "   resultado  = numero1+numero2\n",
        "   print(\"Resultado\", resultado)\n",
        "elif opcao == \"2\":\n",
        "  resultado = numero1-numero2\n",
        "  print(\"resultado\", resultado)\n",
        "elif opcao == \"3\":\n",
        "  resultado = numero1 * numero2\n",
        "  print(\"resultado\", resultado)\n",
        "elif opcao == \"4\":\n",
        "    if numero2 !=0:\n",
        "      resultado = numero1/numero2\n",
        "      print(\"resultado\", resultado)\n",
        "    else:\n",
        "      print(\"Erro:divisao por zero\")\n",
        "else:\n",
        "  print(\"opção invalida.por favor, escolha uma opção válida\")\n"
      ]
    }
  ]
}